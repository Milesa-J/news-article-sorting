{
  "cells": [
    {
      "cell_type": "code",
      "execution_count": null,
      "metadata": {
        "id": "l8stet2H3XHQ"
      },
      "outputs": [],
      "source": [
        "import pandas as pd\n",
        "import json\n",
        "import pickle\n",
        "import matplotlib as plt\n",
        "from sklearn.multiclass import OneVsRestClassifier\n",
        "from sklearn.linear_model import LogisticRegression\n",
        "from sklearn.svm import SVC, LinearSVC\n",
        "from sklearn.tree import DecisionTreeClassifier\n",
        "from sklearn.ensemble import RandomForestClassifier\n",
        "from sklearn.neighbors import KNeighborsClassifier\n",
        "from sklearn.naive_bayes import GaussianNB,MultinomialNB,BernoulliNB"
      ]
    },
    {
      "cell_type": "code",
      "execution_count": null,
      "metadata": {
        "id": "teJekFJu3XHV",
        "colab": {
          "base_uri": "https://localhost:8080/",
          "height": 223
        },
        "outputId": "56dd4e30-2dce-4e7e-92c2-59cc11491ecf"
      },
      "outputs": [
        {
          "output_type": "stream",
          "name": "stdout",
          "text": [
            "Drive already mounted at /content/gdrive; to attempt to forcibly remount, call drive.mount(\"/content/gdrive\", force_remount=True).\n"
          ]
        },
        {
          "output_type": "execute_result",
          "data": {
            "text/plain": [
              "        category                                           headline  \\\n",
              "0          CRIME  There Were 2 Mass Shootings In Texas Last Week...   \n",
              "1  ENTERTAINMENT  Will Smith Joins Diplo And Nicky Jam For The 2...   \n",
              "2  ENTERTAINMENT    Hugh Grant Marries For The First Time At Age 57   \n",
              "3  ENTERTAINMENT  Jim Carrey Blasts 'Castrato' Adam Schiff And D...   \n",
              "4  ENTERTAINMENT  Julianna Margulies Uses Donald Trump Poop Bags...   \n",
              "\n",
              "           authors                                               link  \\\n",
              "0  Melissa Jeltsen  https://www.huffingtonpost.com/entry/texas-ama...   \n",
              "1    Andy McDonald  https://www.huffingtonpost.com/entry/will-smit...   \n",
              "2       Ron Dicker  https://www.huffingtonpost.com/entry/hugh-gran...   \n",
              "3       Ron Dicker  https://www.huffingtonpost.com/entry/jim-carre...   \n",
              "4       Ron Dicker  https://www.huffingtonpost.com/entry/julianna-...   \n",
              "\n",
              "                                   short_description        date  \n",
              "0  She left her husband. He killed their children...  2018-05-26  \n",
              "1                           Of course it has a song.  2018-05-26  \n",
              "2  The actor and his longtime girlfriend Anna Ebe...  2018-05-26  \n",
              "3  The actor gives Dems an ass-kicking for not fi...  2018-05-26  \n",
              "4  The \"Dietland\" actress said using the bags is ...  2018-05-26  "
            ],
            "text/html": [
              "\n",
              "  <div id=\"df-c5a5ed75-a94f-40d6-a81e-92ddb49540c7\">\n",
              "    <div class=\"colab-df-container\">\n",
              "      <div>\n",
              "<style scoped>\n",
              "    .dataframe tbody tr th:only-of-type {\n",
              "        vertical-align: middle;\n",
              "    }\n",
              "\n",
              "    .dataframe tbody tr th {\n",
              "        vertical-align: top;\n",
              "    }\n",
              "\n",
              "    .dataframe thead th {\n",
              "        text-align: right;\n",
              "    }\n",
              "</style>\n",
              "<table border=\"1\" class=\"dataframe\">\n",
              "  <thead>\n",
              "    <tr style=\"text-align: right;\">\n",
              "      <th></th>\n",
              "      <th>category</th>\n",
              "      <th>headline</th>\n",
              "      <th>authors</th>\n",
              "      <th>link</th>\n",
              "      <th>short_description</th>\n",
              "      <th>date</th>\n",
              "    </tr>\n",
              "  </thead>\n",
              "  <tbody>\n",
              "    <tr>\n",
              "      <th>0</th>\n",
              "      <td>CRIME</td>\n",
              "      <td>There Were 2 Mass Shootings In Texas Last Week...</td>\n",
              "      <td>Melissa Jeltsen</td>\n",
              "      <td>https://www.huffingtonpost.com/entry/texas-ama...</td>\n",
              "      <td>She left her husband. He killed their children...</td>\n",
              "      <td>2018-05-26</td>\n",
              "    </tr>\n",
              "    <tr>\n",
              "      <th>1</th>\n",
              "      <td>ENTERTAINMENT</td>\n",
              "      <td>Will Smith Joins Diplo And Nicky Jam For The 2...</td>\n",
              "      <td>Andy McDonald</td>\n",
              "      <td>https://www.huffingtonpost.com/entry/will-smit...</td>\n",
              "      <td>Of course it has a song.</td>\n",
              "      <td>2018-05-26</td>\n",
              "    </tr>\n",
              "    <tr>\n",
              "      <th>2</th>\n",
              "      <td>ENTERTAINMENT</td>\n",
              "      <td>Hugh Grant Marries For The First Time At Age 57</td>\n",
              "      <td>Ron Dicker</td>\n",
              "      <td>https://www.huffingtonpost.com/entry/hugh-gran...</td>\n",
              "      <td>The actor and his longtime girlfriend Anna Ebe...</td>\n",
              "      <td>2018-05-26</td>\n",
              "    </tr>\n",
              "    <tr>\n",
              "      <th>3</th>\n",
              "      <td>ENTERTAINMENT</td>\n",
              "      <td>Jim Carrey Blasts 'Castrato' Adam Schiff And D...</td>\n",
              "      <td>Ron Dicker</td>\n",
              "      <td>https://www.huffingtonpost.com/entry/jim-carre...</td>\n",
              "      <td>The actor gives Dems an ass-kicking for not fi...</td>\n",
              "      <td>2018-05-26</td>\n",
              "    </tr>\n",
              "    <tr>\n",
              "      <th>4</th>\n",
              "      <td>ENTERTAINMENT</td>\n",
              "      <td>Julianna Margulies Uses Donald Trump Poop Bags...</td>\n",
              "      <td>Ron Dicker</td>\n",
              "      <td>https://www.huffingtonpost.com/entry/julianna-...</td>\n",
              "      <td>The \"Dietland\" actress said using the bags is ...</td>\n",
              "      <td>2018-05-26</td>\n",
              "    </tr>\n",
              "  </tbody>\n",
              "</table>\n",
              "</div>\n",
              "      <button class=\"colab-df-convert\" onclick=\"convertToInteractive('df-c5a5ed75-a94f-40d6-a81e-92ddb49540c7')\"\n",
              "              title=\"Convert this dataframe to an interactive table.\"\n",
              "              style=\"display:none;\">\n",
              "        \n",
              "  <svg xmlns=\"http://www.w3.org/2000/svg\" height=\"24px\"viewBox=\"0 0 24 24\"\n",
              "       width=\"24px\">\n",
              "    <path d=\"M0 0h24v24H0V0z\" fill=\"none\"/>\n",
              "    <path d=\"M18.56 5.44l.94 2.06.94-2.06 2.06-.94-2.06-.94-.94-2.06-.94 2.06-2.06.94zm-11 1L8.5 8.5l.94-2.06 2.06-.94-2.06-.94L8.5 2.5l-.94 2.06-2.06.94zm10 10l.94 2.06.94-2.06 2.06-.94-2.06-.94-.94-2.06-.94 2.06-2.06.94z\"/><path d=\"M17.41 7.96l-1.37-1.37c-.4-.4-.92-.59-1.43-.59-.52 0-1.04.2-1.43.59L10.3 9.45l-7.72 7.72c-.78.78-.78 2.05 0 2.83L4 21.41c.39.39.9.59 1.41.59.51 0 1.02-.2 1.41-.59l7.78-7.78 2.81-2.81c.8-.78.8-2.07 0-2.86zM5.41 20L4 18.59l7.72-7.72 1.47 1.35L5.41 20z\"/>\n",
              "  </svg>\n",
              "      </button>\n",
              "      \n",
              "  <style>\n",
              "    .colab-df-container {\n",
              "      display:flex;\n",
              "      flex-wrap:wrap;\n",
              "      gap: 12px;\n",
              "    }\n",
              "\n",
              "    .colab-df-convert {\n",
              "      background-color: #E8F0FE;\n",
              "      border: none;\n",
              "      border-radius: 50%;\n",
              "      cursor: pointer;\n",
              "      display: none;\n",
              "      fill: #1967D2;\n",
              "      height: 32px;\n",
              "      padding: 0 0 0 0;\n",
              "      width: 32px;\n",
              "    }\n",
              "\n",
              "    .colab-df-convert:hover {\n",
              "      background-color: #E2EBFA;\n",
              "      box-shadow: 0px 1px 2px rgba(60, 64, 67, 0.3), 0px 1px 3px 1px rgba(60, 64, 67, 0.15);\n",
              "      fill: #174EA6;\n",
              "    }\n",
              "\n",
              "    [theme=dark] .colab-df-convert {\n",
              "      background-color: #3B4455;\n",
              "      fill: #D2E3FC;\n",
              "    }\n",
              "\n",
              "    [theme=dark] .colab-df-convert:hover {\n",
              "      background-color: #434B5C;\n",
              "      box-shadow: 0px 1px 3px 1px rgba(0, 0, 0, 0.15);\n",
              "      filter: drop-shadow(0px 1px 2px rgba(0, 0, 0, 0.3));\n",
              "      fill: #FFFFFF;\n",
              "    }\n",
              "  </style>\n",
              "\n",
              "      <script>\n",
              "        const buttonEl =\n",
              "          document.querySelector('#df-c5a5ed75-a94f-40d6-a81e-92ddb49540c7 button.colab-df-convert');\n",
              "        buttonEl.style.display =\n",
              "          google.colab.kernel.accessAllowed ? 'block' : 'none';\n",
              "\n",
              "        async function convertToInteractive(key) {\n",
              "          const element = document.querySelector('#df-c5a5ed75-a94f-40d6-a81e-92ddb49540c7');\n",
              "          const dataTable =\n",
              "            await google.colab.kernel.invokeFunction('convertToInteractive',\n",
              "                                                     [key], {});\n",
              "          if (!dataTable) return;\n",
              "\n",
              "          const docLinkHtml = 'Like what you see? Visit the ' +\n",
              "            '<a target=\"_blank\" href=https://colab.research.google.com/notebooks/data_table.ipynb>data table notebook</a>'\n",
              "            + ' to learn more about interactive tables.';\n",
              "          element.innerHTML = '';\n",
              "          dataTable['output_type'] = 'display_data';\n",
              "          await google.colab.output.renderOutput(dataTable, element);\n",
              "          const docLink = document.createElement('div');\n",
              "          docLink.innerHTML = docLinkHtml;\n",
              "          element.appendChild(docLink);\n",
              "        }\n",
              "      </script>\n",
              "    </div>\n",
              "  </div>\n",
              "  "
            ]
          },
          "metadata": {},
          "execution_count": 37
        }
      ],
      "source": [
        "from google.colab import drive\n",
        "drive.mount('/content/gdrive')\n",
        "\n",
        "with open('/content/gdrive/MyDrive/kaggle_dataset/News_Category_Dataset_v2.json', 'r') as f:\n",
        "    mydata = pd.DataFrame([json.loads(l) for l in f.readlines()])\n",
        "\n",
        "mydata.head()"
      ]
    },
    {
      "cell_type": "code",
      "execution_count": null,
      "metadata": {
        "id": "Dbe7B7-E3XHW",
        "outputId": "0a9f8777-885d-47c7-ce7f-65837ce2c0b8",
        "colab": {
          "base_uri": "https://localhost:8080/",
          "height": 468
        }
      },
      "outputs": [
        {
          "output_type": "execute_result",
          "data": {
            "text/plain": [
              "             category                                           headline  \\\n",
              "0               CRIME  There Were 2 Mass Shootings In Texas Last Week...   \n",
              "1       ENTERTAINMENT  Will Smith Joins Diplo And Nicky Jam For The 2...   \n",
              "2       ENTERTAINMENT    Hugh Grant Marries For The First Time At Age 57   \n",
              "3       ENTERTAINMENT  Jim Carrey Blasts 'Castrato' Adam Schiff And D...   \n",
              "4       ENTERTAINMENT  Julianna Margulies Uses Donald Trump Poop Bags...   \n",
              "...               ...                                                ...   \n",
              "200848           TECH  RIM CEO Thorsten Heins' 'Significant' Plans Fo...   \n",
              "200849         SPORTS  Maria Sharapova Stunned By Victoria Azarenka I...   \n",
              "200850         SPORTS  Giants Over Patriots, Jets Over Colts Among  M...   \n",
              "200851         SPORTS  Aldon Smith Arrested: 49ers Linebacker Busted ...   \n",
              "200852         SPORTS  Dwight Howard Rips Teammates After Magic Loss ...   \n",
              "\n",
              "                 authors                                               link  \\\n",
              "0        Melissa Jeltsen  https://www.huffingtonpost.com/entry/texas-ama...   \n",
              "1          Andy McDonald  https://www.huffingtonpost.com/entry/will-smit...   \n",
              "2             Ron Dicker  https://www.huffingtonpost.com/entry/hugh-gran...   \n",
              "3             Ron Dicker  https://www.huffingtonpost.com/entry/jim-carre...   \n",
              "4             Ron Dicker  https://www.huffingtonpost.com/entry/julianna-...   \n",
              "...                  ...                                                ...   \n",
              "200848  Reuters, Reuters  https://www.huffingtonpost.com/entry/rim-ceo-t...   \n",
              "200849                    https://www.huffingtonpost.com/entry/maria-sha...   \n",
              "200850                    https://www.huffingtonpost.com/entry/super-bow...   \n",
              "200851                    https://www.huffingtonpost.com/entry/aldon-smi...   \n",
              "200852                    https://www.huffingtonpost.com/entry/dwight-ho...   \n",
              "\n",
              "                                        short_description        date  \n",
              "0       She left her husband. He killed their children...  2018-05-26  \n",
              "1                                Of course it has a song.  2018-05-26  \n",
              "2       The actor and his longtime girlfriend Anna Ebe...  2018-05-26  \n",
              "3       The actor gives Dems an ass-kicking for not fi...  2018-05-26  \n",
              "4       The \"Dietland\" actress said using the bags is ...  2018-05-26  \n",
              "...                                                   ...         ...  \n",
              "200848  Verizon Wireless and AT&T are already promotin...  2012-01-28  \n",
              "200849  Afterward, Azarenka, more effusive with the pr...  2012-01-28  \n",
              "200850  Leading up to Super Bowl XLVI, the most talked...  2012-01-28  \n",
              "200851  CORRECTION: An earlier version of this story i...  2012-01-28  \n",
              "200852  The five-time all-star center tore into his te...  2012-01-28  \n",
              "\n",
              "[200853 rows x 6 columns]"
            ],
            "text/html": [
              "\n",
              "  <div id=\"df-b77ff6ba-7444-4428-9f64-bb61e47453d7\">\n",
              "    <div class=\"colab-df-container\">\n",
              "      <div>\n",
              "<style scoped>\n",
              "    .dataframe tbody tr th:only-of-type {\n",
              "        vertical-align: middle;\n",
              "    }\n",
              "\n",
              "    .dataframe tbody tr th {\n",
              "        vertical-align: top;\n",
              "    }\n",
              "\n",
              "    .dataframe thead th {\n",
              "        text-align: right;\n",
              "    }\n",
              "</style>\n",
              "<table border=\"1\" class=\"dataframe\">\n",
              "  <thead>\n",
              "    <tr style=\"text-align: right;\">\n",
              "      <th></th>\n",
              "      <th>category</th>\n",
              "      <th>headline</th>\n",
              "      <th>authors</th>\n",
              "      <th>link</th>\n",
              "      <th>short_description</th>\n",
              "      <th>date</th>\n",
              "    </tr>\n",
              "  </thead>\n",
              "  <tbody>\n",
              "    <tr>\n",
              "      <th>0</th>\n",
              "      <td>CRIME</td>\n",
              "      <td>There Were 2 Mass Shootings In Texas Last Week...</td>\n",
              "      <td>Melissa Jeltsen</td>\n",
              "      <td>https://www.huffingtonpost.com/entry/texas-ama...</td>\n",
              "      <td>She left her husband. He killed their children...</td>\n",
              "      <td>2018-05-26</td>\n",
              "    </tr>\n",
              "    <tr>\n",
              "      <th>1</th>\n",
              "      <td>ENTERTAINMENT</td>\n",
              "      <td>Will Smith Joins Diplo And Nicky Jam For The 2...</td>\n",
              "      <td>Andy McDonald</td>\n",
              "      <td>https://www.huffingtonpost.com/entry/will-smit...</td>\n",
              "      <td>Of course it has a song.</td>\n",
              "      <td>2018-05-26</td>\n",
              "    </tr>\n",
              "    <tr>\n",
              "      <th>2</th>\n",
              "      <td>ENTERTAINMENT</td>\n",
              "      <td>Hugh Grant Marries For The First Time At Age 57</td>\n",
              "      <td>Ron Dicker</td>\n",
              "      <td>https://www.huffingtonpost.com/entry/hugh-gran...</td>\n",
              "      <td>The actor and his longtime girlfriend Anna Ebe...</td>\n",
              "      <td>2018-05-26</td>\n",
              "    </tr>\n",
              "    <tr>\n",
              "      <th>3</th>\n",
              "      <td>ENTERTAINMENT</td>\n",
              "      <td>Jim Carrey Blasts 'Castrato' Adam Schiff And D...</td>\n",
              "      <td>Ron Dicker</td>\n",
              "      <td>https://www.huffingtonpost.com/entry/jim-carre...</td>\n",
              "      <td>The actor gives Dems an ass-kicking for not fi...</td>\n",
              "      <td>2018-05-26</td>\n",
              "    </tr>\n",
              "    <tr>\n",
              "      <th>4</th>\n",
              "      <td>ENTERTAINMENT</td>\n",
              "      <td>Julianna Margulies Uses Donald Trump Poop Bags...</td>\n",
              "      <td>Ron Dicker</td>\n",
              "      <td>https://www.huffingtonpost.com/entry/julianna-...</td>\n",
              "      <td>The \"Dietland\" actress said using the bags is ...</td>\n",
              "      <td>2018-05-26</td>\n",
              "    </tr>\n",
              "    <tr>\n",
              "      <th>...</th>\n",
              "      <td>...</td>\n",
              "      <td>...</td>\n",
              "      <td>...</td>\n",
              "      <td>...</td>\n",
              "      <td>...</td>\n",
              "      <td>...</td>\n",
              "    </tr>\n",
              "    <tr>\n",
              "      <th>200848</th>\n",
              "      <td>TECH</td>\n",
              "      <td>RIM CEO Thorsten Heins' 'Significant' Plans Fo...</td>\n",
              "      <td>Reuters, Reuters</td>\n",
              "      <td>https://www.huffingtonpost.com/entry/rim-ceo-t...</td>\n",
              "      <td>Verizon Wireless and AT&amp;T are already promotin...</td>\n",
              "      <td>2012-01-28</td>\n",
              "    </tr>\n",
              "    <tr>\n",
              "      <th>200849</th>\n",
              "      <td>SPORTS</td>\n",
              "      <td>Maria Sharapova Stunned By Victoria Azarenka I...</td>\n",
              "      <td></td>\n",
              "      <td>https://www.huffingtonpost.com/entry/maria-sha...</td>\n",
              "      <td>Afterward, Azarenka, more effusive with the pr...</td>\n",
              "      <td>2012-01-28</td>\n",
              "    </tr>\n",
              "    <tr>\n",
              "      <th>200850</th>\n",
              "      <td>SPORTS</td>\n",
              "      <td>Giants Over Patriots, Jets Over Colts Among  M...</td>\n",
              "      <td></td>\n",
              "      <td>https://www.huffingtonpost.com/entry/super-bow...</td>\n",
              "      <td>Leading up to Super Bowl XLVI, the most talked...</td>\n",
              "      <td>2012-01-28</td>\n",
              "    </tr>\n",
              "    <tr>\n",
              "      <th>200851</th>\n",
              "      <td>SPORTS</td>\n",
              "      <td>Aldon Smith Arrested: 49ers Linebacker Busted ...</td>\n",
              "      <td></td>\n",
              "      <td>https://www.huffingtonpost.com/entry/aldon-smi...</td>\n",
              "      <td>CORRECTION: An earlier version of this story i...</td>\n",
              "      <td>2012-01-28</td>\n",
              "    </tr>\n",
              "    <tr>\n",
              "      <th>200852</th>\n",
              "      <td>SPORTS</td>\n",
              "      <td>Dwight Howard Rips Teammates After Magic Loss ...</td>\n",
              "      <td></td>\n",
              "      <td>https://www.huffingtonpost.com/entry/dwight-ho...</td>\n",
              "      <td>The five-time all-star center tore into his te...</td>\n",
              "      <td>2012-01-28</td>\n",
              "    </tr>\n",
              "  </tbody>\n",
              "</table>\n",
              "<p>200853 rows × 6 columns</p>\n",
              "</div>\n",
              "      <button class=\"colab-df-convert\" onclick=\"convertToInteractive('df-b77ff6ba-7444-4428-9f64-bb61e47453d7')\"\n",
              "              title=\"Convert this dataframe to an interactive table.\"\n",
              "              style=\"display:none;\">\n",
              "        \n",
              "  <svg xmlns=\"http://www.w3.org/2000/svg\" height=\"24px\"viewBox=\"0 0 24 24\"\n",
              "       width=\"24px\">\n",
              "    <path d=\"M0 0h24v24H0V0z\" fill=\"none\"/>\n",
              "    <path d=\"M18.56 5.44l.94 2.06.94-2.06 2.06-.94-2.06-.94-.94-2.06-.94 2.06-2.06.94zm-11 1L8.5 8.5l.94-2.06 2.06-.94-2.06-.94L8.5 2.5l-.94 2.06-2.06.94zm10 10l.94 2.06.94-2.06 2.06-.94-2.06-.94-.94-2.06-.94 2.06-2.06.94z\"/><path d=\"M17.41 7.96l-1.37-1.37c-.4-.4-.92-.59-1.43-.59-.52 0-1.04.2-1.43.59L10.3 9.45l-7.72 7.72c-.78.78-.78 2.05 0 2.83L4 21.41c.39.39.9.59 1.41.59.51 0 1.02-.2 1.41-.59l7.78-7.78 2.81-2.81c.8-.78.8-2.07 0-2.86zM5.41 20L4 18.59l7.72-7.72 1.47 1.35L5.41 20z\"/>\n",
              "  </svg>\n",
              "      </button>\n",
              "      \n",
              "  <style>\n",
              "    .colab-df-container {\n",
              "      display:flex;\n",
              "      flex-wrap:wrap;\n",
              "      gap: 12px;\n",
              "    }\n",
              "\n",
              "    .colab-df-convert {\n",
              "      background-color: #E8F0FE;\n",
              "      border: none;\n",
              "      border-radius: 50%;\n",
              "      cursor: pointer;\n",
              "      display: none;\n",
              "      fill: #1967D2;\n",
              "      height: 32px;\n",
              "      padding: 0 0 0 0;\n",
              "      width: 32px;\n",
              "    }\n",
              "\n",
              "    .colab-df-convert:hover {\n",
              "      background-color: #E2EBFA;\n",
              "      box-shadow: 0px 1px 2px rgba(60, 64, 67, 0.3), 0px 1px 3px 1px rgba(60, 64, 67, 0.15);\n",
              "      fill: #174EA6;\n",
              "    }\n",
              "\n",
              "    [theme=dark] .colab-df-convert {\n",
              "      background-color: #3B4455;\n",
              "      fill: #D2E3FC;\n",
              "    }\n",
              "\n",
              "    [theme=dark] .colab-df-convert:hover {\n",
              "      background-color: #434B5C;\n",
              "      box-shadow: 0px 1px 3px 1px rgba(0, 0, 0, 0.15);\n",
              "      filter: drop-shadow(0px 1px 2px rgba(0, 0, 0, 0.3));\n",
              "      fill: #FFFFFF;\n",
              "    }\n",
              "  </style>\n",
              "\n",
              "      <script>\n",
              "        const buttonEl =\n",
              "          document.querySelector('#df-b77ff6ba-7444-4428-9f64-bb61e47453d7 button.colab-df-convert');\n",
              "        buttonEl.style.display =\n",
              "          google.colab.kernel.accessAllowed ? 'block' : 'none';\n",
              "\n",
              "        async function convertToInteractive(key) {\n",
              "          const element = document.querySelector('#df-b77ff6ba-7444-4428-9f64-bb61e47453d7');\n",
              "          const dataTable =\n",
              "            await google.colab.kernel.invokeFunction('convertToInteractive',\n",
              "                                                     [key], {});\n",
              "          if (!dataTable) return;\n",
              "\n",
              "          const docLinkHtml = 'Like what you see? Visit the ' +\n",
              "            '<a target=\"_blank\" href=https://colab.research.google.com/notebooks/data_table.ipynb>data table notebook</a>'\n",
              "            + ' to learn more about interactive tables.';\n",
              "          element.innerHTML = '';\n",
              "          dataTable['output_type'] = 'display_data';\n",
              "          await google.colab.output.renderOutput(dataTable, element);\n",
              "          const docLink = document.createElement('div');\n",
              "          docLink.innerHTML = docLinkHtml;\n",
              "          element.appendChild(docLink);\n",
              "        }\n",
              "      </script>\n",
              "    </div>\n",
              "  </div>\n",
              "  "
            ]
          },
          "metadata": {},
          "execution_count": 38
        }
      ],
      "source": [
        "mydata"
      ]
    },
    {
      "cell_type": "code",
      "source": [
        "# Generating the summary of entries per category\n",
        "categories = mydata.groupby('category')\n",
        "print(\"total categories:\", categories.ngroups)\n",
        "print(categories.size())"
      ],
      "metadata": {
        "colab": {
          "base_uri": "https://localhost:8080/"
        },
        "id": "avnFKnBf3-o2",
        "outputId": "85f346df-b45c-4a29-8530-fc021a169e39"
      },
      "execution_count": null,
      "outputs": [
        {
          "output_type": "stream",
          "name": "stdout",
          "text": [
            "total categories: 41\n",
            "category\n",
            "ARTS               1509\n",
            "ARTS & CULTURE     1339\n",
            "BLACK VOICES       4528\n",
            "BUSINESS           5937\n",
            "COLLEGE            1144\n",
            "COMEDY             5175\n",
            "CRIME              3405\n",
            "CULTURE & ARTS     1030\n",
            "DIVORCE            3426\n",
            "EDUCATION          1004\n",
            "ENTERTAINMENT     16058\n",
            "ENVIRONMENT        1323\n",
            "FIFTY              1401\n",
            "FOOD & DRINK       6226\n",
            "GOOD NEWS          1398\n",
            "GREEN              2622\n",
            "HEALTHY LIVING     6694\n",
            "HOME & LIVING      4195\n",
            "IMPACT             3459\n",
            "LATINO VOICES      1129\n",
            "MEDIA              2815\n",
            "MONEY              1707\n",
            "PARENTING          8677\n",
            "PARENTS            3955\n",
            "POLITICS          32739\n",
            "QUEER VOICES       6314\n",
            "RELIGION           2556\n",
            "SCIENCE            2178\n",
            "SPORTS             4884\n",
            "STYLE              2254\n",
            "STYLE & BEAUTY     9649\n",
            "TASTE              2096\n",
            "TECH               2082\n",
            "THE WORLDPOST      3664\n",
            "TRAVEL             9887\n",
            "WEDDINGS           3651\n",
            "WEIRD NEWS         2670\n",
            "WELLNESS          17827\n",
            "WOMEN              3490\n",
            "WORLD NEWS         2177\n",
            "WORLDPOST          2579\n",
            "dtype: int64\n"
          ]
        }
      ]
    },
    {
      "cell_type": "code",
      "source": [
        "def category_cleaner(x):\n",
        "    \n",
        "   if x == \"SCIENCE\" or x==\"TECH\":\n",
        "        return \"SCIENCE AND TECHNOLOGY\"\n",
        "   else:\n",
        "        return x\n",
        "\n",
        "mydata['category'] = mydata.category.apply(category_cleaner)"
      ],
      "metadata": {
        "id": "jD6Pcn5-4BwL"
      },
      "execution_count": null,
      "outputs": []
    },
    {
      "cell_type": "code",
      "source": [
        "# Initializing data frame\n",
        "new_data =pd.DataFrame()\n",
        "# Selecting N samples for training \n",
        "Nsamples = 3405\n",
        "for cat in [\"CRIME\",\"ENTERTAINMENT\",\"SPORTS\",\"SCIENCE AND TECHNOLOGY\",\"TRAVEL\",\"BUSINESS\",\"POLITICS\"]:\n",
        "  print(cat)\n",
        "  new_data = new_data.append(mydata[mydata['category']==cat].sample(n=Nsamples)) "
      ],
      "metadata": {
        "colab": {
          "base_uri": "https://localhost:8080/"
        },
        "id": "iRhSwqtt4Egt",
        "outputId": "2e2c4a4d-01ce-417d-b597-947bf8380aa6"
      },
      "execution_count": null,
      "outputs": [
        {
          "output_type": "stream",
          "name": "stdout",
          "text": [
            "CRIME\n",
            "ENTERTAINMENT\n",
            "SPORTS\n",
            "SCIENCE AND TECHNOLOGY\n",
            "TRAVEL\n",
            "BUSINESS\n",
            "POLITICS\n"
          ]
        }
      ]
    },
    {
      "cell_type": "code",
      "source": [
        "# Combining two categories\n",
        "new_data[\"text\"] = new_data.headline\t+\"\"+ new_data.short_description\n",
        "new_data.head()"
      ],
      "metadata": {
        "colab": {
          "base_uri": "https://localhost:8080/",
          "height": 337
        },
        "id": "0QGp5nr84Q2R",
        "outputId": "73f03768-7d2d-4136-e606-0194dc992de7"
      },
      "execution_count": null,
      "outputs": [
        {
          "output_type": "execute_result",
          "data": {
            "text/plain": [
              "       category                                           headline  \\\n",
              "78764     CRIME  South Dakota High School Principal Injured In ...   \n",
              "29392     CRIME  Terrifying Video Shows 2 Bullets Narrowly Miss...   \n",
              "102669    CRIME  The Real Prejudice Behind the Garner/Brown Dec...   \n",
              "82921     CRIME  Elementary School Teacher Struck And Killed By...   \n",
              "38365     CRIME  Videos Capture Moment Gunman Opens Fire At Ist...   \n",
              "\n",
              "                                                  authors  \\\n",
              "78764                                    Dirk Lammers, AP   \n",
              "29392                                          David Moye   \n",
              "102669  Amy Dardashtian, ContributorTelevision Corresp...   \n",
              "82921                                                       \n",
              "38365                                      Mary Papenfuss   \n",
              "\n",
              "                                                     link  \\\n",
              "78764   https://www.huffingtonpost.com/entry/south-dak...   \n",
              "29392   https://www.huffingtonpost.com/entry/arizona-b...   \n",
              "102669  https://www.huffingtonpost.com/entry/the-real-...   \n",
              "82921   https://www.huffingtonpost.com/entry/roller-co...   \n",
              "38365   https://www.huffingtonpost.com/entry/cctv-capt...   \n",
              "\n",
              "                                        short_description        date  \\\n",
              "78764              The suspect, a student, is in custody.  2015-09-30   \n",
              "29392   A man upset with a neighboring business was ch...  2017-04-13   \n",
              "102669  While media coverage has focused on the growin...  2014-12-30   \n",
              "82921   He jumped the fence to retrieve his dropped ph...  2015-08-14   \n",
              "38365   Dozens of victims at the popular hot spot were...  2017-01-02   \n",
              "\n",
              "                                                     text  \n",
              "78764   South Dakota High School Principal Injured In ...  \n",
              "29392   Terrifying Video Shows 2 Bullets Narrowly Miss...  \n",
              "102669  The Real Prejudice Behind the Garner/Brown Dec...  \n",
              "82921   Elementary School Teacher Struck And Killed By...  \n",
              "38365   Videos Capture Moment Gunman Opens Fire At Ist...  "
            ],
            "text/html": [
              "\n",
              "  <div id=\"df-87a9109d-35d7-4392-a7bf-b07647809915\">\n",
              "    <div class=\"colab-df-container\">\n",
              "      <div>\n",
              "<style scoped>\n",
              "    .dataframe tbody tr th:only-of-type {\n",
              "        vertical-align: middle;\n",
              "    }\n",
              "\n",
              "    .dataframe tbody tr th {\n",
              "        vertical-align: top;\n",
              "    }\n",
              "\n",
              "    .dataframe thead th {\n",
              "        text-align: right;\n",
              "    }\n",
              "</style>\n",
              "<table border=\"1\" class=\"dataframe\">\n",
              "  <thead>\n",
              "    <tr style=\"text-align: right;\">\n",
              "      <th></th>\n",
              "      <th>category</th>\n",
              "      <th>headline</th>\n",
              "      <th>authors</th>\n",
              "      <th>link</th>\n",
              "      <th>short_description</th>\n",
              "      <th>date</th>\n",
              "      <th>text</th>\n",
              "    </tr>\n",
              "  </thead>\n",
              "  <tbody>\n",
              "    <tr>\n",
              "      <th>78764</th>\n",
              "      <td>CRIME</td>\n",
              "      <td>South Dakota High School Principal Injured In ...</td>\n",
              "      <td>Dirk Lammers, AP</td>\n",
              "      <td>https://www.huffingtonpost.com/entry/south-dak...</td>\n",
              "      <td>The suspect, a student, is in custody.</td>\n",
              "      <td>2015-09-30</td>\n",
              "      <td>South Dakota High School Principal Injured In ...</td>\n",
              "    </tr>\n",
              "    <tr>\n",
              "      <th>29392</th>\n",
              "      <td>CRIME</td>\n",
              "      <td>Terrifying Video Shows 2 Bullets Narrowly Miss...</td>\n",
              "      <td>David Moye</td>\n",
              "      <td>https://www.huffingtonpost.com/entry/arizona-b...</td>\n",
              "      <td>A man upset with a neighboring business was ch...</td>\n",
              "      <td>2017-04-13</td>\n",
              "      <td>Terrifying Video Shows 2 Bullets Narrowly Miss...</td>\n",
              "    </tr>\n",
              "    <tr>\n",
              "      <th>102669</th>\n",
              "      <td>CRIME</td>\n",
              "      <td>The Real Prejudice Behind the Garner/Brown Dec...</td>\n",
              "      <td>Amy Dardashtian, ContributorTelevision Corresp...</td>\n",
              "      <td>https://www.huffingtonpost.com/entry/the-real-...</td>\n",
              "      <td>While media coverage has focused on the growin...</td>\n",
              "      <td>2014-12-30</td>\n",
              "      <td>The Real Prejudice Behind the Garner/Brown Dec...</td>\n",
              "    </tr>\n",
              "    <tr>\n",
              "      <th>82921</th>\n",
              "      <td>CRIME</td>\n",
              "      <td>Elementary School Teacher Struck And Killed By...</td>\n",
              "      <td></td>\n",
              "      <td>https://www.huffingtonpost.com/entry/roller-co...</td>\n",
              "      <td>He jumped the fence to retrieve his dropped ph...</td>\n",
              "      <td>2015-08-14</td>\n",
              "      <td>Elementary School Teacher Struck And Killed By...</td>\n",
              "    </tr>\n",
              "    <tr>\n",
              "      <th>38365</th>\n",
              "      <td>CRIME</td>\n",
              "      <td>Videos Capture Moment Gunman Opens Fire At Ist...</td>\n",
              "      <td>Mary Papenfuss</td>\n",
              "      <td>https://www.huffingtonpost.com/entry/cctv-capt...</td>\n",
              "      <td>Dozens of victims at the popular hot spot were...</td>\n",
              "      <td>2017-01-02</td>\n",
              "      <td>Videos Capture Moment Gunman Opens Fire At Ist...</td>\n",
              "    </tr>\n",
              "  </tbody>\n",
              "</table>\n",
              "</div>\n",
              "      <button class=\"colab-df-convert\" onclick=\"convertToInteractive('df-87a9109d-35d7-4392-a7bf-b07647809915')\"\n",
              "              title=\"Convert this dataframe to an interactive table.\"\n",
              "              style=\"display:none;\">\n",
              "        \n",
              "  <svg xmlns=\"http://www.w3.org/2000/svg\" height=\"24px\"viewBox=\"0 0 24 24\"\n",
              "       width=\"24px\">\n",
              "    <path d=\"M0 0h24v24H0V0z\" fill=\"none\"/>\n",
              "    <path d=\"M18.56 5.44l.94 2.06.94-2.06 2.06-.94-2.06-.94-.94-2.06-.94 2.06-2.06.94zm-11 1L8.5 8.5l.94-2.06 2.06-.94-2.06-.94L8.5 2.5l-.94 2.06-2.06.94zm10 10l.94 2.06.94-2.06 2.06-.94-2.06-.94-.94-2.06-.94 2.06-2.06.94z\"/><path d=\"M17.41 7.96l-1.37-1.37c-.4-.4-.92-.59-1.43-.59-.52 0-1.04.2-1.43.59L10.3 9.45l-7.72 7.72c-.78.78-.78 2.05 0 2.83L4 21.41c.39.39.9.59 1.41.59.51 0 1.02-.2 1.41-.59l7.78-7.78 2.81-2.81c.8-.78.8-2.07 0-2.86zM5.41 20L4 18.59l7.72-7.72 1.47 1.35L5.41 20z\"/>\n",
              "  </svg>\n",
              "      </button>\n",
              "      \n",
              "  <style>\n",
              "    .colab-df-container {\n",
              "      display:flex;\n",
              "      flex-wrap:wrap;\n",
              "      gap: 12px;\n",
              "    }\n",
              "\n",
              "    .colab-df-convert {\n",
              "      background-color: #E8F0FE;\n",
              "      border: none;\n",
              "      border-radius: 50%;\n",
              "      cursor: pointer;\n",
              "      display: none;\n",
              "      fill: #1967D2;\n",
              "      height: 32px;\n",
              "      padding: 0 0 0 0;\n",
              "      width: 32px;\n",
              "    }\n",
              "\n",
              "    .colab-df-convert:hover {\n",
              "      background-color: #E2EBFA;\n",
              "      box-shadow: 0px 1px 2px rgba(60, 64, 67, 0.3), 0px 1px 3px 1px rgba(60, 64, 67, 0.15);\n",
              "      fill: #174EA6;\n",
              "    }\n",
              "\n",
              "    [theme=dark] .colab-df-convert {\n",
              "      background-color: #3B4455;\n",
              "      fill: #D2E3FC;\n",
              "    }\n",
              "\n",
              "    [theme=dark] .colab-df-convert:hover {\n",
              "      background-color: #434B5C;\n",
              "      box-shadow: 0px 1px 3px 1px rgba(0, 0, 0, 0.15);\n",
              "      filter: drop-shadow(0px 1px 2px rgba(0, 0, 0, 0.3));\n",
              "      fill: #FFFFFF;\n",
              "    }\n",
              "  </style>\n",
              "\n",
              "      <script>\n",
              "        const buttonEl =\n",
              "          document.querySelector('#df-87a9109d-35d7-4392-a7bf-b07647809915 button.colab-df-convert');\n",
              "        buttonEl.style.display =\n",
              "          google.colab.kernel.accessAllowed ? 'block' : 'none';\n",
              "\n",
              "        async function convertToInteractive(key) {\n",
              "          const element = document.querySelector('#df-87a9109d-35d7-4392-a7bf-b07647809915');\n",
              "          const dataTable =\n",
              "            await google.colab.kernel.invokeFunction('convertToInteractive',\n",
              "                                                     [key], {});\n",
              "          if (!dataTable) return;\n",
              "\n",
              "          const docLinkHtml = 'Like what you see? Visit the ' +\n",
              "            '<a target=\"_blank\" href=https://colab.research.google.com/notebooks/data_table.ipynb>data table notebook</a>'\n",
              "            + ' to learn more about interactive tables.';\n",
              "          element.innerHTML = '';\n",
              "          dataTable['output_type'] = 'display_data';\n",
              "          await google.colab.output.renderOutput(dataTable, element);\n",
              "          const docLink = document.createElement('div');\n",
              "          docLink.innerHTML = docLinkHtml;\n",
              "          element.appendChild(docLink);\n",
              "        }\n",
              "      </script>\n",
              "    </div>\n",
              "  </div>\n",
              "  "
            ]
          },
          "metadata": {},
          "execution_count": 42
        }
      ]
    },
    {
      "cell_type": "code",
      "source": [
        ""
      ],
      "metadata": {
        "id": "u1XGtv9Q4Xyw"
      },
      "execution_count": null,
      "outputs": []
    },
    {
      "cell_type": "code",
      "source": [
        "new_data.head()\n",
        "categories = new_data.groupby('category')\n",
        "print(\"total categories:\", categories.ngroups)\n",
        "print(categories.size())"
      ],
      "metadata": {
        "colab": {
          "base_uri": "https://localhost:8080/"
        },
        "id": "yIfQoXsW4Vu6",
        "outputId": "0901946c-60d3-4311-e01e-7f5017f54742"
      },
      "execution_count": null,
      "outputs": [
        {
          "output_type": "stream",
          "name": "stdout",
          "text": [
            "total categories: 7\n",
            "category\n",
            "BUSINESS                  3405\n",
            "CRIME                     3405\n",
            "ENTERTAINMENT             3405\n",
            "POLITICS                  3405\n",
            "SCIENCE AND TECHNOLOGY    3405\n",
            "SPORTS                    3405\n",
            "TRAVEL                    3405\n",
            "dtype: int64\n"
          ]
        }
      ]
    },
    {
      "cell_type": "code",
      "source": [
        "del new_data[\"short_description\"]\n",
        "del new_data[\"headline\"]\n",
        "del new_data[\"link\"]\n",
        "del new_data[\"date\"]\n",
        "new_data.head()"
      ],
      "metadata": {
        "colab": {
          "base_uri": "https://localhost:8080/",
          "height": 206
        },
        "id": "I7yHy9sC4Y5U",
        "outputId": "27235b76-83f5-4f33-95a5-de639d40d051"
      },
      "execution_count": null,
      "outputs": [
        {
          "output_type": "execute_result",
          "data": {
            "text/plain": [
              "       category                                            authors  \\\n",
              "78764     CRIME                                   Dirk Lammers, AP   \n",
              "29392     CRIME                                         David Moye   \n",
              "102669    CRIME  Amy Dardashtian, ContributorTelevision Corresp...   \n",
              "82921     CRIME                                                      \n",
              "38365     CRIME                                     Mary Papenfuss   \n",
              "\n",
              "                                                     text  \n",
              "78764   South Dakota High School Principal Injured In ...  \n",
              "29392   Terrifying Video Shows 2 Bullets Narrowly Miss...  \n",
              "102669  The Real Prejudice Behind the Garner/Brown Dec...  \n",
              "82921   Elementary School Teacher Struck And Killed By...  \n",
              "38365   Videos Capture Moment Gunman Opens Fire At Ist...  "
            ],
            "text/html": [
              "\n",
              "  <div id=\"df-9976e0e1-1515-4f6b-b22f-5f3c484fe70f\">\n",
              "    <div class=\"colab-df-container\">\n",
              "      <div>\n",
              "<style scoped>\n",
              "    .dataframe tbody tr th:only-of-type {\n",
              "        vertical-align: middle;\n",
              "    }\n",
              "\n",
              "    .dataframe tbody tr th {\n",
              "        vertical-align: top;\n",
              "    }\n",
              "\n",
              "    .dataframe thead th {\n",
              "        text-align: right;\n",
              "    }\n",
              "</style>\n",
              "<table border=\"1\" class=\"dataframe\">\n",
              "  <thead>\n",
              "    <tr style=\"text-align: right;\">\n",
              "      <th></th>\n",
              "      <th>category</th>\n",
              "      <th>authors</th>\n",
              "      <th>text</th>\n",
              "    </tr>\n",
              "  </thead>\n",
              "  <tbody>\n",
              "    <tr>\n",
              "      <th>78764</th>\n",
              "      <td>CRIME</td>\n",
              "      <td>Dirk Lammers, AP</td>\n",
              "      <td>South Dakota High School Principal Injured In ...</td>\n",
              "    </tr>\n",
              "    <tr>\n",
              "      <th>29392</th>\n",
              "      <td>CRIME</td>\n",
              "      <td>David Moye</td>\n",
              "      <td>Terrifying Video Shows 2 Bullets Narrowly Miss...</td>\n",
              "    </tr>\n",
              "    <tr>\n",
              "      <th>102669</th>\n",
              "      <td>CRIME</td>\n",
              "      <td>Amy Dardashtian, ContributorTelevision Corresp...</td>\n",
              "      <td>The Real Prejudice Behind the Garner/Brown Dec...</td>\n",
              "    </tr>\n",
              "    <tr>\n",
              "      <th>82921</th>\n",
              "      <td>CRIME</td>\n",
              "      <td></td>\n",
              "      <td>Elementary School Teacher Struck And Killed By...</td>\n",
              "    </tr>\n",
              "    <tr>\n",
              "      <th>38365</th>\n",
              "      <td>CRIME</td>\n",
              "      <td>Mary Papenfuss</td>\n",
              "      <td>Videos Capture Moment Gunman Opens Fire At Ist...</td>\n",
              "    </tr>\n",
              "  </tbody>\n",
              "</table>\n",
              "</div>\n",
              "      <button class=\"colab-df-convert\" onclick=\"convertToInteractive('df-9976e0e1-1515-4f6b-b22f-5f3c484fe70f')\"\n",
              "              title=\"Convert this dataframe to an interactive table.\"\n",
              "              style=\"display:none;\">\n",
              "        \n",
              "  <svg xmlns=\"http://www.w3.org/2000/svg\" height=\"24px\"viewBox=\"0 0 24 24\"\n",
              "       width=\"24px\">\n",
              "    <path d=\"M0 0h24v24H0V0z\" fill=\"none\"/>\n",
              "    <path d=\"M18.56 5.44l.94 2.06.94-2.06 2.06-.94-2.06-.94-.94-2.06-.94 2.06-2.06.94zm-11 1L8.5 8.5l.94-2.06 2.06-.94-2.06-.94L8.5 2.5l-.94 2.06-2.06.94zm10 10l.94 2.06.94-2.06 2.06-.94-2.06-.94-.94-2.06-.94 2.06-2.06.94z\"/><path d=\"M17.41 7.96l-1.37-1.37c-.4-.4-.92-.59-1.43-.59-.52 0-1.04.2-1.43.59L10.3 9.45l-7.72 7.72c-.78.78-.78 2.05 0 2.83L4 21.41c.39.39.9.59 1.41.59.51 0 1.02-.2 1.41-.59l7.78-7.78 2.81-2.81c.8-.78.8-2.07 0-2.86zM5.41 20L4 18.59l7.72-7.72 1.47 1.35L5.41 20z\"/>\n",
              "  </svg>\n",
              "      </button>\n",
              "      \n",
              "  <style>\n",
              "    .colab-df-container {\n",
              "      display:flex;\n",
              "      flex-wrap:wrap;\n",
              "      gap: 12px;\n",
              "    }\n",
              "\n",
              "    .colab-df-convert {\n",
              "      background-color: #E8F0FE;\n",
              "      border: none;\n",
              "      border-radius: 50%;\n",
              "      cursor: pointer;\n",
              "      display: none;\n",
              "      fill: #1967D2;\n",
              "      height: 32px;\n",
              "      padding: 0 0 0 0;\n",
              "      width: 32px;\n",
              "    }\n",
              "\n",
              "    .colab-df-convert:hover {\n",
              "      background-color: #E2EBFA;\n",
              "      box-shadow: 0px 1px 2px rgba(60, 64, 67, 0.3), 0px 1px 3px 1px rgba(60, 64, 67, 0.15);\n",
              "      fill: #174EA6;\n",
              "    }\n",
              "\n",
              "    [theme=dark] .colab-df-convert {\n",
              "      background-color: #3B4455;\n",
              "      fill: #D2E3FC;\n",
              "    }\n",
              "\n",
              "    [theme=dark] .colab-df-convert:hover {\n",
              "      background-color: #434B5C;\n",
              "      box-shadow: 0px 1px 3px 1px rgba(0, 0, 0, 0.15);\n",
              "      filter: drop-shadow(0px 1px 2px rgba(0, 0, 0, 0.3));\n",
              "      fill: #FFFFFF;\n",
              "    }\n",
              "  </style>\n",
              "\n",
              "      <script>\n",
              "        const buttonEl =\n",
              "          document.querySelector('#df-9976e0e1-1515-4f6b-b22f-5f3c484fe70f button.colab-df-convert');\n",
              "        buttonEl.style.display =\n",
              "          google.colab.kernel.accessAllowed ? 'block' : 'none';\n",
              "\n",
              "        async function convertToInteractive(key) {\n",
              "          const element = document.querySelector('#df-9976e0e1-1515-4f6b-b22f-5f3c484fe70f');\n",
              "          const dataTable =\n",
              "            await google.colab.kernel.invokeFunction('convertToInteractive',\n",
              "                                                     [key], {});\n",
              "          if (!dataTable) return;\n",
              "\n",
              "          const docLinkHtml = 'Like what you see? Visit the ' +\n",
              "            '<a target=\"_blank\" href=https://colab.research.google.com/notebooks/data_table.ipynb>data table notebook</a>'\n",
              "            + ' to learn more about interactive tables.';\n",
              "          element.innerHTML = '';\n",
              "          dataTable['output_type'] = 'display_data';\n",
              "          await google.colab.output.renderOutput(dataTable, element);\n",
              "          const docLink = document.createElement('div');\n",
              "          docLink.innerHTML = docLinkHtml;\n",
              "          element.appendChild(docLink);\n",
              "        }\n",
              "      </script>\n",
              "    </div>\n",
              "  </div>\n",
              "  "
            ]
          },
          "metadata": {},
          "execution_count": 44
        }
      ]
    },
    {
      "cell_type": "code",
      "source": [
        "filter_data=new_data"
      ],
      "metadata": {
        "id": "Gh0VMBmL4bve"
      },
      "execution_count": null,
      "outputs": []
    },
    {
      "cell_type": "code",
      "execution_count": null,
      "metadata": {
        "id": "qrXJ_-VB3XHa"
      },
      "outputs": [],
      "source": [
        "X_message=filter_data.iloc[:,2]\n",
        "Y_class=filter_data.iloc[:,0]"
      ]
    },
    {
      "cell_type": "markdown",
      "source": [
        "##Extract Features"
      ],
      "metadata": {
        "id": "SFH8OIIyE7Vl"
      }
    },
    {
      "cell_type": "code",
      "execution_count": null,
      "metadata": {
        "id": "lK-OzZB93XHd"
      },
      "outputs": [],
      "source": [
        "from sklearn.feature_extraction.text import CountVectorizer\n",
        "from sklearn.feature_extraction.text import TfidfVectorizer"
      ]
    },
    {
      "cell_type": "code",
      "execution_count": null,
      "metadata": {
        "id": "1q8BkH7J3XHf"
      },
      "outputs": [],
      "source": [
        "my_cv=CountVectorizer()\n",
        "my_tfidf=TfidfVectorizer(stop_words='english')"
      ]
    },
    {
      "cell_type": "code",
      "execution_count": null,
      "metadata": {
        "id": "wiBEl1Cb3XHf"
      },
      "outputs": [],
      "source": [
        "XX=my_tfidf.fit_transform(X_message)"
      ]
    },
    {
      "cell_type": "code",
      "execution_count": null,
      "metadata": {
        "id": "qsZb4b0r3XHg",
        "colab": {
          "base_uri": "https://localhost:8080/"
        },
        "outputId": "c7bdde9c-3ba8-4aac-a7c9-410bfd79096b"
      },
      "outputs": [
        {
          "output_type": "stream",
          "name": "stderr",
          "text": [
            "/usr/local/lib/python3.7/dist-packages/sklearn/utils/deprecation.py:87: FutureWarning: Function get_feature_names is deprecated; get_feature_names is deprecated in 1.0 and will be removed in 1.2. Please use get_feature_names_out instead.\n",
            "  warnings.warn(msg, category=FutureWarning)\n"
          ]
        }
      ],
      "source": [
        "f_n=my_tfidf.get_feature_names()"
      ]
    },
    {
      "cell_type": "code",
      "execution_count": null,
      "metadata": {
        "id": "eZhFZ86D3XHh"
      },
      "outputs": [],
      "source": [
        "from sklearn.linear_model import LogisticRegression\n",
        "from sklearn.model_selection import train_test_split"
      ]
    },
    {
      "cell_type": "code",
      "execution_count": null,
      "metadata": {
        "id": "EK43kZ7l3XHi"
      },
      "outputs": [],
      "source": [
        "X_train,X_test,Y_train,Y_test=train_test_split(XX,Y_class,test_size=.001,random_state=101)"
      ]
    },
    {
      "cell_type": "markdown",
      "source": [
        "#Models\n"
      ],
      "metadata": {
        "id": "OvLXLJgCNuHp"
      }
    },
    {
      "cell_type": "markdown",
      "source": [
        "##Logistic Regression"
      ],
      "metadata": {
        "id": "bby-43RLO-Gz"
      }
    },
    {
      "cell_type": "code",
      "execution_count": null,
      "metadata": {
        "id": "uhgW8Po03XHi",
        "colab": {
          "base_uri": "https://localhost:8080/"
        },
        "outputId": "4ea4d6fe-4a2a-4bb2-bf9e-4d047a58f6c9"
      },
      "outputs": [
        {
          "output_type": "stream",
          "name": "stderr",
          "text": [
            "/usr/local/lib/python3.7/dist-packages/sklearn/linear_model/_logistic.py:818: ConvergenceWarning: lbfgs failed to converge (status=1):\n",
            "STOP: TOTAL NO. of ITERATIONS REACHED LIMIT.\n",
            "\n",
            "Increase the number of iterations (max_iter) or scale the data as shown in:\n",
            "    https://scikit-learn.org/stable/modules/preprocessing.html\n",
            "Please also refer to the documentation for alternative solver options:\n",
            "    https://scikit-learn.org/stable/modules/linear_model.html#logistic-regression\n",
            "  extra_warning_msg=_LOGISTIC_SOLVER_CONVERGENCE_MSG,\n"
          ]
        }
      ],
      "source": [
        "cl=LogisticRegression(solver='lbfgs')\n",
        "lr=cl.fit(X_train,Y_train)"
      ]
    },
    {
      "cell_type": "markdown",
      "source": [
        "###Accuracy"
      ],
      "metadata": {
        "id": "_onZvgZlPHfo"
      }
    },
    {
      "cell_type": "code",
      "source": [
        "YA=Y_test\n",
        "Yp=lr.predict(X_test)\n",
        "from sklearn.metrics import accuracy_score\n",
        "acc=accuracy_score(YA,Yp)\n",
        "acc"
      ],
      "metadata": {
        "colab": {
          "base_uri": "https://localhost:8080/"
        },
        "id": "F8fE4R47PMxy",
        "outputId": "91f2060b-1bde-4836-f963-9861ccf0616f"
      },
      "execution_count": null,
      "outputs": [
        {
          "output_type": "execute_result",
          "data": {
            "text/plain": [
              "0.875"
            ]
          },
          "metadata": {},
          "execution_count": 54
        }
      ]
    },
    {
      "cell_type": "markdown",
      "source": [
        "##Random Forest"
      ],
      "metadata": {
        "id": "VLhxK2rwOR4Q"
      }
    },
    {
      "cell_type": "code",
      "source": [
        "lr = RandomForestClassifier(n_estimators=100 ,criterion='entropy' , random_state=0)\n",
        "lr = lr.fit(X_train,Y_train)"
      ],
      "metadata": {
        "id": "t9_k5WwQNvca"
      },
      "execution_count": null,
      "outputs": []
    },
    {
      "cell_type": "markdown",
      "source": [
        "###Accuracy"
      ],
      "metadata": {
        "id": "9T7NeHQLPUjZ"
      }
    },
    {
      "cell_type": "code",
      "source": [
        "YA=Y_test\n",
        "Yp=lr.predict(X_test)\n",
        "from sklearn.metrics import accuracy_score\n",
        "acc=accuracy_score(YA,Yp)\n",
        "acc"
      ],
      "metadata": {
        "colab": {
          "base_uri": "https://localhost:8080/"
        },
        "id": "3BY05GcsPW-b",
        "outputId": "9d8c90c2-0c62-4341-83ee-71a11a37408b"
      },
      "execution_count": null,
      "outputs": [
        {
          "output_type": "execute_result",
          "data": {
            "text/plain": [
              "0.8333333333333334"
            ]
          },
          "metadata": {},
          "execution_count": 56
        }
      ]
    },
    {
      "cell_type": "markdown",
      "source": [
        "##Multinomial Naive Bayes"
      ],
      "metadata": {
        "id": "dzg777lyQZRu"
      }
    },
    {
      "cell_type": "code",
      "source": [
        "lr = MultinomialNB(alpha=1.0,fit_prior=True)\n",
        "lr = lr.fit(X_train,Y_train)"
      ],
      "metadata": {
        "id": "JGXN6SwlQYmw"
      },
      "execution_count": null,
      "outputs": []
    },
    {
      "cell_type": "markdown",
      "source": [
        "###Accuracy"
      ],
      "metadata": {
        "id": "OPYeLDJTQnNl"
      }
    },
    {
      "cell_type": "code",
      "source": [
        "YA=Y_test\n",
        "Yp=lr.predict(X_test)\n",
        "from sklearn.metrics import accuracy_score\n",
        "acc=accuracy_score(YA,Yp)\n",
        "acc"
      ],
      "metadata": {
        "colab": {
          "base_uri": "https://localhost:8080/"
        },
        "id": "BumZkcmtQomx",
        "outputId": "6c819e1e-3ae6-45a4-85b1-28dddc21122a"
      },
      "execution_count": null,
      "outputs": [
        {
          "output_type": "execute_result",
          "data": {
            "text/plain": [
              "0.875"
            ]
          },
          "metadata": {},
          "execution_count": 58
        }
      ]
    },
    {
      "cell_type": "markdown",
      "source": [
        "##SVM"
      ],
      "metadata": {
        "id": "5bwkSIRjQvPc"
      }
    },
    {
      "cell_type": "code",
      "source": [
        "lr = SVC()\n",
        "lr = lr.fit(X_train,Y_train)"
      ],
      "metadata": {
        "id": "AOpqOqjEQwVk"
      },
      "execution_count": null,
      "outputs": []
    },
    {
      "cell_type": "markdown",
      "source": [
        "###Accuracy"
      ],
      "metadata": {
        "id": "Lc0fZzVcQ0AH"
      }
    },
    {
      "cell_type": "code",
      "source": [
        "YA=Y_test\n",
        "Yp=lr.predict(X_test)\n",
        "from sklearn.metrics import accuracy_score\n",
        "acc=accuracy_score(YA,Yp)\n",
        "acc"
      ],
      "metadata": {
        "colab": {
          "base_uri": "https://localhost:8080/"
        },
        "id": "Cw9n1kwwQ2hT",
        "outputId": "0f459b48-5c5f-4e07-bbc9-5515c15bdf12"
      },
      "execution_count": null,
      "outputs": [
        {
          "output_type": "execute_result",
          "data": {
            "text/plain": [
              "0.8333333333333334"
            ]
          },
          "metadata": {},
          "execution_count": 60
        }
      ]
    },
    {
      "cell_type": "markdown",
      "source": [
        "###Accuracy"
      ],
      "metadata": {
        "id": "0cHaL_ZPSQWp"
      }
    },
    {
      "cell_type": "markdown",
      "source": [
        "##Decision Tree Classifier"
      ],
      "metadata": {
        "id": "rUkxMVjORvlH"
      }
    },
    {
      "cell_type": "code",
      "source": [
        "lr = DecisionTreeClassifier()\n",
        "lr = lr.fit(X_train,Y_train)"
      ],
      "metadata": {
        "id": "0bEu3ByiR4Dm"
      },
      "execution_count": null,
      "outputs": []
    },
    {
      "cell_type": "markdown",
      "source": [
        "###Accuracy"
      ],
      "metadata": {
        "id": "7AjMWLxaR9As"
      }
    },
    {
      "cell_type": "code",
      "source": [
        "YA=Y_test\n",
        "Yp=lr.predict(X_test)\n",
        "from sklearn.metrics import accuracy_score\n",
        "acc=accuracy_score(YA,Yp)\n",
        "acc"
      ],
      "metadata": {
        "colab": {
          "base_uri": "https://localhost:8080/"
        },
        "id": "-Sz9nT-cR-Xm",
        "outputId": "a46a8a39-48eb-4281-e264-cedafe093f35"
      },
      "execution_count": null,
      "outputs": [
        {
          "output_type": "execute_result",
          "data": {
            "text/plain": [
              "0.625"
            ]
          },
          "metadata": {},
          "execution_count": 62
        }
      ]
    },
    {
      "cell_type": "code",
      "execution_count": null,
      "metadata": {
        "id": "_n3bMAdq3XHj"
      },
      "outputs": [],
      "source": [
        "# YA=Y_test\n",
        "# Yp=lr.predict(X_test)"
      ]
    },
    {
      "cell_type": "code",
      "execution_count": null,
      "metadata": {
        "id": "7DG99E3Q3XHk"
      },
      "outputs": [],
      "source": [
        "# from sklearn.metrics import accuracy_score\n",
        "# acc=accuracy_score(YA,Yp)\n",
        "# acc"
      ]
    },
    {
      "cell_type": "code",
      "execution_count": null,
      "metadata": {
        "id": "xc4K8hzT3XHl"
      },
      "outputs": [],
      "source": [
        "# text=[\"Raindrops and thunderstorms in #Delhi may impact our flight operations. Please keep enough travel time in hand to avoid any hassle. \"]\n",
        "# text_vec=my_tfidf.transform(text).toarray()\n",
        "# text_vec.shape\n",
        "# lr.predict(text_vec)"
      ]
    },
    {
      "cell_type": "markdown",
      "source": [
        "##Saving Model and Tfidf"
      ],
      "metadata": {
        "id": "X2TofrFcGv20"
      }
    },
    {
      "cell_type": "code",
      "source": [
        "# model_name = \"trained_model.sav\"\n",
        "# vec_file = \"vectorizer.pickle\"\n",
        "# pickle.dump(lr,open(model_name,'wb'))\n",
        "# pickle.dump(my_tfidf,open(vec_file,'wb'))"
      ],
      "metadata": {
        "id": "OFO5QK1FHB1y"
      },
      "execution_count": null,
      "outputs": []
    },
    {
      "cell_type": "code",
      "source": [
        "#Pickle File test"
      ],
      "metadata": {
        "id": "mXJFSIoWIuIR"
      },
      "execution_count": null,
      "outputs": []
    },
    {
      "cell_type": "code",
      "source": [
        "# model = pickle.load(open(model_name,'rb'))\n",
        "# tfidf = pickle.load(open(vec_file,'rb'))\n",
        "\n",
        "# text=[\"Raindrops and thunderstorms in #Delhi may impact our flight operations. Please keep enough travel time in hand to avoid any hassle. \"]\n",
        "# text = tfidf.transform(text).toarray()\n",
        "# print(model.predict(text))"
      ],
      "metadata": {
        "id": "dR3mennOI78h"
      },
      "execution_count": null,
      "outputs": []
    }
  ],
  "metadata": {
    "kernelspec": {
      "display_name": "Python 3",
      "language": "python",
      "name": "python3"
    },
    "language_info": {
      "codemirror_mode": {
        "name": "ipython",
        "version": 3
      },
      "file_extension": ".py",
      "mimetype": "text/x-python",
      "name": "python",
      "nbconvert_exporter": "python",
      "pygments_lexer": "ipython3",
      "version": "3.7.1"
    },
    "colab": {
      "name": "text_classification_final.ipynb",
      "provenance": []
    }
  },
  "nbformat": 4,
  "nbformat_minor": 0
}